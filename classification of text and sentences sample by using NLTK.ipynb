{
 "cells": [
  {
   "cell_type": "code",
   "execution_count": 1,
   "metadata": {},
   "outputs": [],
   "source": [
    "from nltk.corpus import names\n",
    "import nltk"
   ]
  },
  {
   "cell_type": "code",
   "execution_count": 2,
   "metadata": {},
   "outputs": [],
   "source": [
    "import random"
   ]
  },
  {
   "cell_type": "code",
   "execution_count": 3,
   "metadata": {},
   "outputs": [],
   "source": [
    "names = ([(name,'male') for name in names.words('male.txt')] + [(name,'female') for name in names.words('female.txt')])"
   ]
  },
  {
   "cell_type": "code",
   "execution_count": 4,
   "metadata": {},
   "outputs": [],
   "source": [
    "random.shuffle(names)"
   ]
  },
  {
   "cell_type": "code",
   "execution_count": 5,
   "metadata": {},
   "outputs": [
    {
     "data": {
      "text/plain": [
       "{'last_letter': 'k'}"
      ]
     },
     "execution_count": 5,
     "metadata": {},
     "output_type": "execute_result"
    }
   ],
   "source": [
    "def gender_features(word):\n",
    "    return {'last_letter': word[-1]}\n",
    "gender_features('shrek')"
   ]
  },
  {
   "cell_type": "code",
   "execution_count": 6,
   "metadata": {},
   "outputs": [],
   "source": [
    "featuresets = [(gender_features(n),g) for (n,g) in names]\n"
   ]
  },
  {
   "cell_type": "code",
   "execution_count": 7,
   "metadata": {},
   "outputs": [],
   "source": [
    "train_set , test_set = featuresets[500:],featuresets[:500]"
   ]
  },
  {
   "cell_type": "code",
   "execution_count": 8,
   "metadata": {},
   "outputs": [],
   "source": [
    "classifier = nltk.NaiveBayesClassifier.train(train_set)"
   ]
  },
  {
   "cell_type": "code",
   "execution_count": 9,
   "metadata": {},
   "outputs": [
    {
     "data": {
      "text/plain": [
       "'male'"
      ]
     },
     "execution_count": 9,
     "metadata": {},
     "output_type": "execute_result"
    }
   ],
   "source": [
    "classifier.classify(gender_features('Neo'))\n"
   ]
  },
  {
   "cell_type": "code",
   "execution_count": 10,
   "metadata": {},
   "outputs": [
    {
     "data": {
      "text/plain": [
       "'female'"
      ]
     },
     "execution_count": 10,
     "metadata": {},
     "output_type": "execute_result"
    }
   ],
   "source": [
    "classifier.classify(gender_features('Trinity'))"
   ]
  },
  {
   "cell_type": "code",
   "execution_count": 11,
   "metadata": {},
   "outputs": [
    {
     "name": "stdout",
     "output_type": "stream",
     "text": [
      "0.786\n"
     ]
    }
   ],
   "source": [
    "print (nltk.classify.accuracy(classifier,test_set))"
   ]
  },
  {
   "cell_type": "code",
   "execution_count": 12,
   "metadata": {},
   "outputs": [
    {
     "name": "stdout",
     "output_type": "stream",
     "text": [
      "Most Informative Features\n",
      "             last_letter = 'a'            female : male   =     34.3 : 1.0\n",
      "             last_letter = 'k'              male : female =     30.8 : 1.0\n",
      "             last_letter = 'f'              male : female =     15.9 : 1.0\n",
      "             last_letter = 'p'              male : female =     12.5 : 1.0\n",
      "             last_letter = 'v'              male : female =     11.2 : 1.0\n",
      "             last_letter = 'd'              male : female =      9.9 : 1.0\n",
      "             last_letter = 'm'              male : female =      8.2 : 1.0\n",
      "             last_letter = 'o'              male : female =      8.1 : 1.0\n",
      "             last_letter = 'r'              male : female =      6.7 : 1.0\n",
      "             last_letter = 'w'              male : female =      6.2 : 1.0\n",
      "             last_letter = 'g'              male : female =      4.9 : 1.0\n",
      "             last_letter = 'b'              male : female =      4.6 : 1.0\n",
      "             last_letter = 's'              male : female =      4.2 : 1.0\n",
      "             last_letter = 'z'              male : female =      4.0 : 1.0\n",
      "             last_letter = 'j'              male : female =      4.0 : 1.0\n",
      "             last_letter = 't'              male : female =      3.8 : 1.0\n",
      "             last_letter = 'i'            female : male   =      3.6 : 1.0\n",
      "             last_letter = 'u'              male : female =      2.7 : 1.0\n",
      "             last_letter = 'n'              male : female =      2.1 : 1.0\n",
      "             last_letter = 'l'              male : female =      1.8 : 1.0\n"
     ]
    }
   ],
   "source": [
    "classifier.show_most_informative_features(20)"
   ]
  },
  {
   "cell_type": "code",
   "execution_count": null,
   "metadata": {},
   "outputs": [],
   "source": []
  },
  {
   "cell_type": "markdown",
   "metadata": {},
   "source": [
    "#### Document classification "
   ]
  },
  {
   "cell_type": "code",
   "execution_count": 13,
   "metadata": {},
   "outputs": [],
   "source": [
    "from nltk.corpus import movie_reviews"
   ]
  },
  {
   "cell_type": "code",
   "execution_count": 14,
   "metadata": {},
   "outputs": [],
   "source": [
    "documents = [(list(movie_reviews.words(fileid)),category) for category in movie_reviews.categories() for fileid in movie_reviews.fileids(category)]"
   ]
  },
  {
   "cell_type": "code",
   "execution_count": 15,
   "metadata": {},
   "outputs": [],
   "source": [
    "random.shuffle(documents)"
   ]
  },
  {
   "cell_type": "code",
   "execution_count": 16,
   "metadata": {},
   "outputs": [],
   "source": [
    "all_words = nltk.FreqDist(w.lower() for w in movie_reviews.words())"
   ]
  },
  {
   "cell_type": "code",
   "execution_count": 17,
   "metadata": {},
   "outputs": [],
   "source": [
    "word_features = all_words.most_common(2000)"
   ]
  },
  {
   "cell_type": "code",
   "execution_count": 18,
   "metadata": {},
   "outputs": [],
   "source": [
    "def document_features(document):\n",
    "    document_words = set(document)\n",
    "    features = {}\n",
    "    for word in word_features:\n",
    "        features['contain(%s)' % str(word)] = (word in document_words)\n",
    "    return features "
   ]
  },
  {
   "cell_type": "code",
   "execution_count": 19,
   "metadata": {},
   "outputs": [
    {
     "name": "stdout",
     "output_type": "stream",
     "text": [
      "{\"contain((',', 77717))\": False, \"contain(('the', 76529))\": False, \"contain(('.', 65876))\": False, \"contain(('a', 38106))\": False, \"contain(('and', 35576))\": False, \"contain(('of', 34123))\": False, \"contain(('to', 31937))\": False, 'contain((\"\\'\", 30585))': False, \"contain(('is', 25195))\": False, \"contain(('in', 21822))\": False, \"contain(('s', 18513))\": False, 'contain((\\'\"\\', 17612))': False, \"contain(('it', 16107))\": False, \"contain(('that', 15924))\": False, \"contain(('-', 15595))\": False, \"contain((')', 11781))\": False, \"contain(('(', 11664))\": False, \"contain(('as', 11378))\": False, \"contain(('with', 10792))\": False, \"contain(('for', 9961))\": False, \"contain(('his', 9587))\": False, \"contain(('this', 9578))\": False, \"contain(('film', 9517))\": False, \"contain(('i', 8889))\": False, \"contain(('he', 8864))\": False, \"contain(('but', 8634))\": False, \"contain(('on', 7385))\": False, \"contain(('are', 6949))\": False, \"contain(('t', 6410))\": False, \"contain(('by', 6261))\": False, \"contain(('be', 6174))\": False, \"contain(('one', 5852))\": False, \"contain(('movie', 5771))\": False, \"contain(('an', 5744))\": False, \"contain(('who', 5692))\": False, \"contain(('not', 5577))\": False, \"contain(('you', 5316))\": False, \"contain(('from', 4999))\": False, \"contain(('at', 4986))\": False, \"contain(('was', 4940))\": False, \"contain(('have', 4901))\": False, \"contain(('they', 4825))\": False, \"contain(('has', 4719))\": False, \"contain(('her', 4522))\": False, \"contain(('all', 4373))\": False, \"contain(('?', 3771))\": False, \"contain(('there', 3770))\": False, \"contain(('like', 3690))\": False, \"contain(('so', 3683))\": False, \"contain(('out', 3637))\": False, \"contain(('about', 3523))\": False, \"contain(('up', 3405))\": False, \"contain(('more', 3347))\": False, \"contain(('what', 3322))\": False, \"contain(('when', 3258))\": False, \"contain(('which', 3161))\": False, \"contain(('or', 3148))\": False, \"contain(('she', 3141))\": False, \"contain(('their', 3122))\": False, \"contain((':', 3042))\": False, \"contain(('some', 2985))\": False, \"contain(('just', 2905))\": False, \"contain(('can', 2882))\": False, \"contain(('if', 2799))\": False, \"contain(('we', 2775))\": False, \"contain(('him', 2633))\": False, \"contain(('into', 2623))\": False, \"contain(('even', 2565))\": False, \"contain(('only', 2495))\": False, \"contain(('than', 2474))\": False, \"contain(('no', 2472))\": False, \"contain(('good', 2411))\": False, \"contain(('time', 2411))\": False, \"contain(('most', 2306))\": False, \"contain(('its', 2270))\": False, \"contain(('will', 2216))\": False, \"contain(('story', 2169))\": False, \"contain(('would', 2109))\": False, \"contain(('been', 2050))\": False, \"contain(('much', 2049))\": False, \"contain(('character', 2020))\": False, \"contain(('also', 1967))\": False, \"contain(('get', 1949))\": False, \"contain(('other', 1948))\": False, \"contain(('do', 1915))\": False, \"contain(('two', 1911))\": False, \"contain(('well', 1906))\": False, \"contain(('them', 1877))\": False, \"contain(('very', 1863))\": False, \"contain(('characters', 1859))\": False, \"contain((';', 1850))\": False, \"contain(('first', 1836))\": False, \"contain(('--', 1815))\": False, \"contain(('after', 1762))\": False, \"contain(('see', 1749))\": False, \"contain(('!', 1713))\": False, \"contain(('way', 1693))\": False, \"contain(('because', 1684))\": False, \"contain(('make', 1642))\": False, \"contain(('life', 1586))\": False, \"contain(('off', 1581))\": False, \"contain(('too', 1577))\": False, \"contain(('any', 1574))\": False, \"contain(('does', 1568))\": False, \"contain(('really', 1558))\": False, \"contain(('had', 1546))\": False, \"contain(('while', 1539))\": False, \"contain(('films', 1536))\": False, \"contain(('how', 1517))\": False, \"contain(('plot', 1513))\": False, \"contain(('little', 1501))\": False, \"contain(('where', 1492))\": False, \"contain(('people', 1455))\": False, \"contain(('over', 1446))\": False, \"contain(('could', 1427))\": False, \"contain(('then', 1424))\": False, \"contain(('me', 1414))\": False, \"contain(('scene', 1397))\": False, \"contain(('man', 1396))\": False, \"contain(('bad', 1395))\": False, \"contain(('my', 1394))\": False, \"contain(('never', 1374))\": False, \"contain(('being', 1338))\": False, \"contain(('best', 1333))\": False, \"contain(('these', 1309))\": False, \"contain(('don', 1294))\": False, \"contain(('new', 1292))\": False, \"contain(('doesn', 1277))\": False, \"contain(('scenes', 1274))\": False, \"contain(('many', 1268))\": False, \"contain(('director', 1237))\": False, \"contain(('such', 1219))\": False, \"contain(('know', 1217))\": False, \"contain(('were', 1217))\": False, \"contain(('movies', 1206))\": False, \"contain(('through', 1190))\": False, \"contain(('here', 1188))\": False, \"contain(('action', 1172))\": False, \"contain(('great', 1148))\": False, \"contain(('re', 1132))\": False, \"contain(('another', 1121))\": False, \"contain(('love', 1119))\": False, \"contain(('go', 1113))\": False, \"contain(('made', 1084))\": False, \"contain(('us', 1073))\": False, \"contain(('big', 1064))\": False, \"contain(('end', 1062))\": False, \"contain(('something', 1061))\": False, \"contain(('back', 1060))\": False, \"contain(('*', 1054))\": False, \"contain(('still', 1047))\": False, \"contain(('world', 1037))\": False, \"contain(('seems', 1033))\": False, \"contain(('work', 1020))\": False, \"contain(('those', 1015))\": False, \"contain(('makes', 992))\": False, \"contain(('now', 992))\": False, \"contain(('before', 992))\": False, \"contain(('however', 989))\": False, \"contain(('between', 965))\": False, \"contain(('few', 964))\": False, \"contain(('/', 960))\": False, \"contain(('down', 950))\": False, \"contain(('every', 947))\": False, \"contain(('though', 940))\": False, \"contain(('better', 922))\": False, \"contain(('real', 915))\": False, \"contain(('audience', 914))\": False, \"contain(('enough', 910))\": False, \"contain(('seen', 910))\": False, \"contain(('take', 905))\": False, \"contain(('around', 903))\": False, \"contain(('both', 893))\": False, \"contain(('going', 888))\": False, \"contain(('year', 886))\": False, \"contain(('performance', 886))\": False, \"contain(('why', 884))\": False, \"contain(('should', 872))\": False, \"contain(('role', 872))\": False, \"contain(('isn', 871))\": False, \"contain(('same', 870))\": False, \"contain(('old', 870))\": False, \"contain(('gets', 865))\": False, \"contain(('your', 858))\": False, \"contain(('may', 857))\": False, \"contain(('things', 852))\": False, \"contain(('think', 849))\": False, \"contain(('years', 846))\": False, \"contain(('last', 843))\": False, \"contain(('comedy', 840))\": False, \"contain(('funny', 840))\": False, \"contain(('actually', 837))\": False, \"contain(('ve', 836))\": False, \"contain(('long', 836))\": False, \"contain(('look', 835))\": False, \"contain(('almost', 820))\": False, \"contain(('own', 815))\": False, \"contain(('thing', 809))\": False, \"contain(('fact', 805))\": False, \"contain(('nothing', 804))\": False, \"contain(('say', 802))\": False, \"contain(('right', 798))\": False, \"contain(('john', 798))\": False, \"contain(('although', 795))\": False, \"contain(('played', 791))\": False, \"contain(('find', 782))\": False, \"contain(('script', 778))\": False, \"contain(('come', 777))\": False, \"contain(('ever', 776))\": False, \"contain(('cast', 769))\": False, \"contain(('since', 768))\": False, \"contain(('did', 763))\": False, \"contain(('star', 761))\": False, \"contain(('plays', 752))\": False, \"contain(('young', 743))\": False, \"contain(('show', 741))\": False, \"contain(('comes', 733))\": False, \"contain(('m', 727))\": False, \"contain(('part', 714))\": False, \"contain(('original', 712))\": False, \"contain(('actors', 706))\": False, \"contain(('screen', 705))\": False, \"contain(('without', 697))\": False, \"contain(('again', 696))\": False, \"contain(('acting', 695))\": False, \"contain(('three', 695))\": False, \"contain(('day', 688))\": False, \"contain(('each', 687))\": False, \"contain(('point', 685))\": False, \"contain(('lot', 677))\": False, \"contain(('least', 676))\": False, \"contain(('takes', 674))\": False, \"contain(('guy', 664))\": False, \"contain(('quite', 660))\": False, \"contain(('himself', 656))\": False, \"contain(('away', 655))\": False, \"contain(('during', 655))\": False, \"contain(('family', 652))\": False, \"contain(('effects', 649))\": False, \"contain(('course', 648))\": False, \"contain(('goes', 646))\": False, \"contain(('minutes', 644))\": False, \"contain(('interesting', 638))\": False, \"contain(('might', 635))\": False, \"contain(('far', 635))\": False, \"contain(('high', 624))\": False, \"contain(('rather', 621))\": False, \"contain(('once', 621))\": False, \"contain(('must', 618))\": False, \"contain(('anything', 618))\": False, \"contain(('place', 615))\": False, \"contain(('set', 610))\": False, \"contain(('yet', 608))\": False, \"contain(('watch', 603))\": False, \"contain(('d', 603))\": False, \"contain(('making', 602))\": False, \"contain(('our', 601))\": False, \"contain(('wife', 588))\": False, \"contain(('hard', 587))\": False, \"contain(('always', 586))\": False, \"contain(('fun', 584))\": False, \"contain(('didn', 579))\": False, \"contain(('ll', 577))\": False, \"contain(('seem', 574))\": False, \"contain(('special', 574))\": False, \"contain(('bit', 568))\": False, \"contain(('times', 568))\": False, \"contain(('trying', 566))\": False, \"contain(('hollywood', 566))\": False, \"contain(('instead', 565))\": False, \"contain(('give', 561))\": False, \"contain(('want', 560))\": False, \"contain(('picture', 560))\": False, \"contain(('kind', 559))\": False, \"contain(('american', 559))\": False, \"contain(('job', 556))\": False, \"contain(('sense', 555))\": False, \"contain(('woman', 554))\": False, \"contain(('home', 550))\": False, \"contain(('having', 549))\": False, \"contain(('series', 548))\": False, \"contain(('actor', 546))\": False, \"contain(('probably', 539))\": False, \"contain(('help', 537))\": False, \"contain(('half', 535))\": False, \"contain(('along', 533))\": False, \"contain(('men', 532))\": False, \"contain(('everything', 530))\": False, \"contain(('pretty', 528))\": False, \"contain(('becomes', 526))\": False, \"contain(('sure', 523))\": False, \"contain(('black', 523))\": False, \"contain(('together', 522))\": False, \"contain(('dialogue', 519))\": False, \"contain(('money', 512))\": False, \"contain(('become', 511))\": False, \"contain(('gives', 507))\": False, \"contain(('given', 502))\": False, \"contain(('looking', 501))\": False, \"contain(('whole', 495))\": False, \"contain(('watching', 493))\": False, \"contain(('father', 492))\": False, \"contain(('`', 486))\": False, \"contain(('feel', 485))\": False, \"contain(('everyone', 484))\": False, \"contain(('music', 480))\": False, \"contain(('wants', 477))\": False, \"contain(('sex', 476))\": False, \"contain(('less', 475))\": False, \"contain(('done', 475))\": False, \"contain(('horror', 473))\": False, \"contain(('got', 470))\": False, \"contain(('death', 468))\": False, \"contain(('perhaps', 464))\": False, \"contain(('city', 459))\": False, \"contain(('next', 458))\": False, \"contain(('especially', 456))\": False, \"contain(('play', 453))\": False, \"contain(('girl', 452))\": False, \"contain(('mind', 451))\": False, \"contain(('10', 449))\": False, \"contain(('moments', 447))\": False, \"contain(('looks', 443))\": False, \"contain(('completely', 440))\": False, \"contain(('2', 439))\": False, \"contain(('reason', 437))\": False, \"contain(('mother', 437))\": False, \"contain(('whose', 436))\": False, \"contain(('line', 435))\": False, \"contain(('night', 435))\": False, \"contain(('human', 432))\": False, \"contain(('until', 431))\": False, \"contain(('rest', 431))\": False, \"contain(('performances', 431))\": False, \"contain(('different', 430))\": False, \"contain(('evil', 429))\": False, \"contain(('small', 429))\": False, \"contain(('james', 429))\": False, \"contain(('simply', 428))\": False, \"contain(('couple', 427))\": False, \"contain(('put', 426))\": False, \"contain(('let', 425))\": False, \"contain(('anyone', 424))\": False, \"contain(('ending', 423))\": False, \"contain(('case', 420))\": False, \"contain(('several', 419))\": False, \"contain(('dead', 418))\": False, \"contain(('michael', 417))\": False, \"contain(('left', 413))\": False, \"contain(('thought', 413))\": False, \"contain(('school', 411))\": False, \"contain(('shows', 410))\": False, \"contain(('humor', 410))\": False, \"contain(('true', 410))\": False, \"contain(('lost', 409))\": False, \"contain(('written', 409))\": False, \"contain(('itself', 409))\": False, \"contain(('friend', 409))\": False, \"contain(('entire', 408))\": False, \"contain(('getting', 406))\": False, \"contain(('town', 404))\": False, \"contain(('turns', 403))\": False, \"contain(('soon', 402))\": False, \"contain(('someone', 401))\": False, \"contain(('second', 401))\": False, \"contain(('main', 399))\": False, \"contain(('stars', 399))\": False, \"contain(('found', 398))\": False, \"contain(('use', 398))\": False, \"contain(('problem', 396))\": False, \"contain(('friends', 396))\": False, \"contain(('tv', 395))\": False, \"contain(('top', 393))\": False, \"contain(('name', 392))\": False, \"contain(('begins', 392))\": False, \"contain(('called', 391))\": False, \"contain(('based', 389))\": False, \"contain(('comic', 389))\": False, \"contain(('david', 388))\": False, \"contain(('head', 387))\": False, \"contain(('else', 387))\": False, \"contain(('idea', 386))\": False, \"contain(('either', 386))\": False, \"contain(('wrong', 385))\": False, \"contain(('unfortunately', 382))\": False, \"contain(('later', 382))\": False, \"contain(('final', 380))\": False, \"contain(('hand', 378))\": False, \"contain(('alien', 378))\": False, \"contain(('house', 377))\": False, \"contain(('group', 377))\": False, \"contain(('full', 375))\": False, \"contain(('used', 372))\": False, \"contain(('tries', 370))\": False, \"contain(('often', 370))\": False, \"contain(('against', 370))\": False, \"contain(('war', 369))\": False, \"contain(('sequence', 366))\": False, \"contain(('keep', 364))\": False, \"contain(('turn', 363))\": False, \"contain(('playing', 362))\": False, \"contain(('boy', 362))\": False, \"contain(('behind', 362))\": False, \"contain(('named', 362))\": False, \"contain(('certainly', 361))\": False, \"contain(('live', 361))\": False, \"contain(('believe', 360))\": False, \"contain(('under', 359))\": False, \"contain(('works', 359))\": False, \"contain(('relationship', 359))\": False, \"contain(('face', 357))\": False, \"contain(('hour', 355))\": False, \"contain(('run', 354))\": False, \"contain(('style', 354))\": False, \"contain(('said', 353))\": False, \"contain(('despite', 352))\": False, \"contain(('person', 352))\": False, \"contain(('finally', 350))\": False, \"contain(('shot', 348))\": False, \"contain(('book', 347))\": False, \"contain(('doing', 347))\": False, \"contain(('tell', 346))\": False, \"contain(('maybe', 345))\": False, \"contain(('nice', 344))\": False, \"contain(('son', 343))\": False, \"contain(('perfect', 343))\": False, \"contain(('side', 341))\": False, \"contain(('seeing', 339))\": False, \"contain(('able', 339))\": False, \"contain(('finds', 337))\": False, \"contain(('children', 336))\": False, \"contain(('days', 336))\": False, \"contain(('past', 336))\": False, \"contain(('summer', 334))\": False, \"contain(('camera', 333))\": False, \"contain(('won', 332))\": False, \"contain(('including', 330))\": False, \"contain(('mr', 329))\": False, \"contain(('kids', 328))\": False, \"contain(('lives', 327))\": False, \"contain(('directed', 326))\": False, \"contain(('moment', 325))\": False, \"contain(('game', 325))\": False, \"contain(('running', 323))\": False, \"contain(('fight', 323))\": False, \"contain(('supposed', 323))\": False, \"contain(('video', 322))\": False, \"contain(('car', 321))\": False, \"contain(('matter', 321))\": False, \"contain(('kevin', 321))\": False, \"contain(('joe', 321))\": False, \"contain(('lines', 320))\": False, \"contain(('worth', 319))\": False, \"contain(('=', 319))\": False, \"contain(('daughter', 317))\": False, \"contain(('earth', 317))\": False, \"contain(('starts', 316))\": False, \"contain(('need', 316))\": False, \"contain(('entertaining', 314))\": False, \"contain(('white', 314))\": False, \"contain(('start', 312))\": False, \"contain(('writer', 312))\": False, \"contain(('dark', 312))\": False, \"contain(('short', 310))\": False, \"contain(('self', 309))\": False, \"contain(('worst', 308))\": False, \"contain(('nearly', 307))\": False, \"contain(('opening', 306))\": False, \"contain(('try', 306))\": False, \"contain(('upon', 306))\": False, \"contain(('care', 304))\": False, \"contain(('early', 303))\": False, \"contain(('violence', 303))\": False, \"contain(('throughout', 302))\": False, \"contain(('team', 302))\": False, \"contain(('production', 300))\": False, \"contain(('example', 300))\": False, \"contain(('beautiful', 299))\": False, \"contain(('title', 297))\": False, \"contain(('exactly', 297))\": False, \"contain(('jack', 297))\": False, \"contain(('review', 295))\": False, \"contain(('major', 295))\": False, \"contain(('drama', 294))\": False, \"contain(('&', 293))\": False, \"contain(('problems', 293))\": False, \"contain(('sequences', 293))\": False, \"contain(('obvious', 292))\": False, \"contain(('version', 292))\": False, \"contain(('screenplay', 292))\": False, \"contain(('known', 292))\": False, \"contain(('killer', 291))\": False, \"contain(('wasn', 291))\": False, \"contain(('robert', 291))\": False, \"contain(('disney', 290))\": False, \"contain(('already', 289))\": False, \"contain(('close', 289))\": False, \"contain(('classic', 289))\": False, \"contain(('others', 288))\": False, \"contain(('hit', 285))\": False, \"contain(('kill', 285))\": False, \"contain(('deep', 285))\": False, \"contain(('five', 284))\": False, \"contain(('order', 284))\": False, \"contain(('act', 284))\": False, \"contain(('simple', 284))\": False, \"contain(('fine', 284))\": False, \"contain(('themselves', 283))\": False, \"contain(('heart', 283))\": False, \"contain(('roles', 283))\": False, \"contain(('jackie', 283))\": False, \"contain(('direction', 283))\": False, \"contain(('eyes', 282))\": False, \"contain(('four', 282))\": False, \"contain(('question', 278))\": False, \"contain(('sort', 278))\": False, \"contain(('sometimes', 277))\": False, \"contain(('knows', 277))\": False, \"contain(('supporting', 276))\": False, \"contain(('coming', 275))\": False, \"contain(('voice', 275))\": False, \"contain(('women', 275))\": False, \"contain(('truly', 274))\": False, \"contain(('save', 273))\": False, \"contain(('jokes', 273))\": False, \"contain(('computer', 273))\": False, \"contain(('child', 272))\": False, \"contain(('o', 271))\": False, \"contain(('boring', 270))\": False, \"contain(('tom', 270))\": False, \"contain(('level', 270))\": False, \"contain(('1', 270))\": False, \"contain(('body', 269))\": False, \"contain(('guys', 268))\": False, \"contain(('genre', 268))\": False, \"contain(('brother', 268))\": False, \"contain(('strong', 268))\": False, \"contain(('stop', 268))\": False, \"contain(('room', 268))\": False, \"contain(('space', 267))\": False, \"contain(('lee', 266))\": False, \"contain(('ends', 266))\": False, \"contain(('beginning', 265))\": False, \"contain(('ship', 264))\": False, \"contain(('york', 264))\": False, \"contain(('attempt', 263))\": False, \"contain(('thriller', 263))\": False, \"contain(('scream', 262))\": False, \"contain(('peter', 261))\": False, \"contain(('aren', 260))\": False, \"contain(('husband', 260))\": False, \"contain(('fiction', 258))\": False, \"contain(('happens', 258))\": False, \"contain(('hero', 258))\": False, \"contain(('novel', 257))\": False, \"contain(('note', 257))\": False, \"contain(('hope', 257))\": False, \"contain(('king', 256))\": False, \"contain(('yes', 256))\": False, \"contain(('says', 256))\": False, \"contain(('tells', 255))\": False, \"contain(('quickly', 255))\": False, \"contain(('romantic', 254))\": False, \"contain(('dog', 254))\": False, \"contain(('oscar', 254))\": False, \"contain(('stupid', 253))\": False, \"contain(('possible', 253))\": False, \"contain(('saw', 253))\": False, \"contain(('lead', 251))\": False, \"contain(('career', 251))\": False, \"contain(('murder', 250))\": False, \"contain(('extremely', 248))\": False, \"contain(('manages', 248))\": False, \"contain(('god', 248))\": False, \"contain(('mostly', 247))\": False, \"contain(('wonder', 247))\": False, \"contain(('particularly', 246))\": False, \"contain(('future', 246))\": False, \"contain(('fans', 245))\": False, \"contain(('sound', 245))\": False, \"contain(('worse', 245))\": False, \"contain(('piece', 244))\": False, \"contain(('involving', 244))\": False, \"contain(('de', 244))\": False, \"contain(('appears', 243))\": False, \"contain(('planet', 243))\": False, \"contain(('paul', 243))\": False, \"contain(('involved', 243))\": False, \"contain(('mean', 242))\": False, \"contain(('none', 242))\": False, \"contain(('taking', 242))\": False, \"contain(('hours', 242))\": False, \"contain(('laugh', 242))\": False, \"contain(('police', 241))\": False, \"contain(('sets', 241))\": False, \"contain(('attention', 241))\": False, \"contain(('co', 241))\": False, \"contain(('hell', 240))\": False, \"contain(('eventually', 240))\": False, \"contain(('single', 239))\": False, \"contain(('fall', 239))\": False, \"contain(('falls', 239))\": False, \"contain(('material', 239))\": False, \"contain(('emotional', 239))\": False, \"contain(('power', 238))\": False, \"contain(('late', 238))\": False, \"contain(('lack', 237))\": False, \"contain(('dr', 237))\": False, \"contain(('van', 237))\": False, \"contain(('result', 237))\": False, \"contain(('elements', 236))\": False, \"contain(('meet', 236))\": False, \"contain(('smith', 236))\": False, \"contain(('science', 235))\": False, \"contain(('experience', 235))\": False, \"contain(('bring', 235))\": False, \"contain(('wild', 235))\": False, \"contain(('living', 234))\": False, \"contain(('theater', 234))\": False, \"contain(('interest', 232))\": False, \"contain(('leads', 231))\": False, \"contain(('word', 231))\": False, \"contain(('feature', 230))\": False, \"contain(('battle', 230))\": False, \"contain(('girls', 229))\": False, \"contain(('alone', 229))\": False, \"contain(('obviously', 228))\": False, \"contain(('george', 228))\": False, \"contain(('within', 227))\": False, \"contain(('usually', 227))\": False, \"contain(('enjoy', 227))\": False, \"contain(('guess', 226))\": False, \"contain(('among', 226))\": False, \"contain(('taken', 225))\": False, \"contain(('feeling', 225))\": False, \"contain(('laughs', 225))\": False, \"contain(('aliens', 225))\": False, \"contain(('talk', 224))\": False, \"contain(('chance', 223))\": False, \"contain(('talent', 223))\": False, \"contain(('3', 222))\": False, \"contain(('middle', 222))\": False, \"contain(('number', 222))\": False, \"contain(('easy', 222))\": False, \"contain(('across', 221))\": False, \"contain(('needs', 221))\": False, \"contain(('attempts', 221))\": False, \"contain(('happen', 220))\": False, \"contain(('television', 220))\": False, \"contain(('chris', 220))\": False, \"contain(('deal', 219))\": False, \"contain(('poor', 219))\": False, \"contain(('form', 219))\": False, \"contain(('girlfriend', 218))\": False, \"contain(('viewer', 218))\": False, \"contain(('release', 218))\": False, \"contain(('killed', 218))\": False, \"contain(('forced', 218))\": False, \"contain(('whether', 217))\": False, \"contain(('wonderful', 217))\": False, \"contain(('feels', 216))\": False, \"contain(('oh', 216))\": False, \"contain(('tale', 216))\": False, \"contain(('serious', 216))\": False, \"contain(('expect', 216))\": False, \"contain(('except', 216))\": False, \"contain(('light', 216))\": False, \"contain(('success', 216))\": False, \"contain(('features', 216))\": False, \"contain(('premise', 216))\": False, \"contain(('happy', 215))\": False, \"contain(('words', 215))\": False, \"contain(('leave', 215))\": False, \"contain(('important', 215))\": False, \"contain(('meets', 215))\": False, \"contain(('history', 215))\": False, \"contain(('giving', 214))\": False, \"contain(('crew', 214))\": False, \"contain(('type', 214))\": False, \"contain(('call', 214))\": False, \"contain(('turned', 214))\": False, \"contain(('released', 214))\": False, \"contain(('parents', 214))\": False, \"contain(('art', 214))\": False, \"contain(('impressive', 214))\": False, \"contain(('mission', 213))\": False, \"contain(('working', 213))\": False, \"contain(('seemed', 212))\": False, \"contain(('score', 212))\": False, \"contain(('told', 212))\": False, \"contain(('recent', 211))\": False, \"contain(('robin', 211))\": False, \"contain(('basically', 211))\": False, \"contain(('entertainment', 211))\": False, \"contain(('america', 211))\": False, \"contain(('$', 210))\": False, \"contain(('surprise', 210))\": False, \"contain(('apparently', 209))\": False, \"contain(('easily', 209))\": False, \"contain(('ryan', 209))\": False, \"contain(('cool', 208))\": False, \"contain(('stuff', 208))\": False, \"contain(('cop', 208))\": False, \"contain(('change', 208))\": False, \"contain(('williams', 208))\": False, \"contain(('crime', 208))\": False, \"contain(('office', 208))\": False, \"contain(('parts', 207))\": False, \"contain(('somehow', 207))\": False, \"contain(('sequel', 207))\": False, \"contain(('william', 206))\": False, \"contain(('cut', 206))\": False, \"contain(('die', 205))\": False, \"contain(('jones', 204))\": False, \"contain(('credits', 203))\": False, \"contain(('batman', 203))\": False, \"contain(('suspense', 202))\": False, \"contain(('brings', 202))\": False, \"contain(('events', 201))\": False, \"contain(('reality', 201))\": False, \"contain(('whom', 201))\": False, \"contain(('local', 201))\": False, \"contain(('talking', 200))\": False, \"contain(('difficult', 200))\": False, \"contain(('using', 200))\": False, \"contain(('went', 200))\": False, \"contain(('writing', 200))\": False, \"contain(('remember', 200))\": False, \"contain(('near', 200))\": False, \"contain(('straight', 200))\": False, \"contain(('hilarious', 200))\": False, \"contain(('ago', 199))\": False, \"contain(('certain', 199))\": False, \"contain(('ben', 199))\": False, \"contain(('kid', 198))\": False, \"contain(('wouldn', 198))\": False, \"contain(('slow', 198))\": False, \"contain(('blood', 198))\": False, \"contain(('mystery', 198))\": False, \"contain(('complete', 197))\": False, \"contain(('red', 197))\": False, \"contain(('popular', 197))\": False, \"contain(('effective', 197))\": False, \"contain(('am', 197))\": False, \"contain(('fast', 197))\": False, \"contain(('flick', 196))\": False, \"contain(('due', 196))\": False, \"contain(('runs', 196))\": False, \"contain(('gone', 195))\": False, \"contain(('return', 195))\": False, \"contain(('presence', 195))\": False, \"contain(('quality', 195))\": False, \"contain(('dramatic', 194))\": False, \"contain(('filmmakers', 194))\": False, \"contain(('age', 194))\": False, \"contain(('brothers', 194))\": False, \"contain(('business', 193))\": False, \"contain(('general', 193))\": False, \"contain(('rock', 192))\": False, \"contain(('sexual', 192))\": False, \"contain(('present', 192))\": False, \"contain(('surprisingly', 191))\": False, \"contain(('anyway', 191))\": False, \"contain(('uses', 191))\": False, \"contain(('4', 190))\": False, \"contain(('personal', 190))\": False, \"contain(('figure', 190))\": False, \"contain(('smart', 190))\": False, \"contain(('ways', 189))\": False, \"contain(('decides', 189))\": False, \"contain(('annoying', 189))\": False, \"contain(('begin', 189))\": False, \"contain(('couldn', 189))\": False, \"contain(('somewhat', 188))\": False, \"contain(('shots', 188))\": False, \"contain(('rich', 188))\": False, \"contain(('minute', 187))\": False, \"contain(('law', 187))\": False, \"contain(('previous', 186))\": False, \"contain(('jim', 186))\": False, \"contain(('successful', 186))\": False, \"contain(('harry', 186))\": False, \"contain(('water', 186))\": False, \"contain(('similar', 186))\": False, \"contain(('absolutely', 186))\": False, \"contain(('motion', 186))\": False, \"contain(('former', 186))\": False, \"contain(('strange', 185))\": False, \"contain(('came', 185))\": False, \"contain(('follow', 185))\": False, \"contain(('read', 185))\": False, \"contain(('project', 185))\": False, \"contain(('million', 185))\": False, \"contain(('secret', 184))\": False, \"contain(('starring', 184))\": False, \"contain(('clear', 184))\": False, \"contain(('familiar', 184))\": False, \"contain(('romance', 184))\": False, \"contain(('intelligent', 184))\": False, \"contain(('third', 184))\": False, \"contain(('excellent', 184))\": False, \"contain(('amazing', 184))\": False, \"contain(('party', 183))\": False, \"contain(('budget', 183))\": False, \"contain(('eye', 183))\": False, \"contain(('actress', 183))\": False, \"contain(('prison', 183))\": False, \"contain(('latest', 183))\": False, \"contain(('means', 183))\": False, \"contain(('company', 183))\": False, \"contain(('towards', 182))\": False, \"contain(('predictable', 182))\": False, \"contain(('powerful', 182))\": False, \"contain(('nor', 182))\": False, \"contain(('bob', 182))\": False, \"contain(('beyond', 181))\": False, \"contain(('visual', 181))\": False, \"contain(('leaves', 181))\": False, \"contain(('r', 180))\": False, \"contain(('nature', 180))\": False, \"contain(('following', 180))\": False, \"contain(('villain', 180))\": False, \"contain(('leaving', 180))\": False, \"contain(('animated', 179))\": False, \"contain(('low', 179))\": False, \"contain(('myself', 179))\": False, \"contain(('b', 179))\": False, \"contain(('bill', 179))\": False, \"contain(('sam', 179))\": False, \"contain(('filled', 179))\": False, \"contain(('wars', 179))\": False, \"contain(('questions', 178))\": False, \"contain(('cinema', 178))\": False, \"contain(('message', 178))\": False, \"contain(('box', 178))\": False, \"contain(('moving', 178))\": False, \"contain(('herself', 178))\": False, \"contain(('country', 178))\": False, \"contain(('usual', 177))\": False, \"contain(('martin', 177))\": False, \"contain(('definitely', 177))\": False, \"contain(('add', 177))\": False, \"contain(('large', 177))\": False, \"contain(('clever', 177))\": False, \"contain(('create', 177))\": False, \"contain(('felt', 176))\": False, \"contain(('stories', 176))\": False, \"contain(('brilliant', 176))\": False, \"contain(('ones', 176))\": False, \"contain(('giant', 176))\": False, \"contain(('situation', 176))\": False, \"contain(('murphy', 176))\": False, \"contain(('break', 175))\": False, \"contain(('opens', 175))\": False, \"contain(('scary', 175))\": False, \"contain(('doubt', 175))\": False, \"contain(('drug', 175))\": False, \"contain(('bunch', 174))\": False, \"contain(('thinking', 174))\": False, \"contain(('solid', 174))\": False, \"contain(('effect', 173))\": False, \"contain(('learn', 172))\": False, \"contain(('move', 172))\": False, \"contain(('force', 171))\": False, \"contain(('potential', 171))\": False, \"contain(('seriously', 171))\": False, \"contain(('follows', 170))\": False, \"contain(('above', 170))\": False, \"contain(('saying', 170))\": False, \"contain(('huge', 169))\": False, \"contain(('class', 169))\": False, \"contain(('plan', 169))\": False, \"contain(('agent', 168))\": False, \"contain(('created', 167))\": False, \"contain(('unlike', 167))\": False, \"contain(('pay', 166))\": False, \"contain(('non', 166))\": False, \"contain(('married', 166))\": False, \"contain(('mark', 166))\": False, \"contain(('sweet', 166))\": False, \"contain(('perfectly', 166))\": False, \"contain(('ex', 165))\": False, \"contain(('realize', 165))\": False, \"contain(('audiences', 165))\": False, \"contain(('took', 164))\": False, \"contain(('decent', 164))\": False, \"contain(('likely', 164))\": False, \"contain(('dream', 164))\": False, \"contain(('view', 164))\": False, \"contain(('scott', 164))\": False, \"contain(('subject', 164))\": False, \"contain(('understand', 164))\": False, \"contain(('happened', 164))\": False, \"contain(('enjoyable', 164))\": False, \"contain(('studio', 163))\": False, \"contain(('immediately', 163))\": False, \"contain(('open', 163))\": False, \"contain(('e', 163))\": False, \"contain(('points', 163))\": False, \"contain(('heard', 163))\": False, \"contain(('viewers', 163))\": False, \"contain(('cameron', 163))\": False, \"contain(('truman', 163))\": False, \"contain(('bruce', 162))\": False, \"contain(('frank', 162))\": False, \"contain(('private', 161))\": False, \"contain(('stay', 161))\": False, \"contain(('fails', 161))\": False, \"contain(('impossible', 161))\": False, \"contain(('cold', 161))\": False, \"contain(('richard', 161))\": False, \"contain(('overall', 160))\": False, \"contain(('merely', 160))\": False, \"contain(('exciting', 160))\": False, \"contain(('mess', 159))\": False, \"contain(('chase', 159))\": False, \"contain(('free', 159))\": False, \"contain(('ten', 159))\": False, \"contain(('neither', 159))\": False, \"contain(('wanted', 159))\": False, \"contain(('gun', 159))\": False, \"contain(('appear', 159))\": False, \"contain(('carter', 159))\": False, \"contain(('escape', 158))\": False, \"contain(('ultimately', 158))\": False, \"contain(('+', 158))\": False, \"contain(('fan', 158))\": False, \"contain(('inside', 157))\": False, \"contain(('favorite', 157))\": False, \"contain(('haven', 157))\": False, \"contain(('modern', 157))\": False, \"contain(('l', 157))\": False, \"contain(('wedding', 157))\": False, \"contain(('stone', 157))\": False, \"contain(('trek', 157))\": False, \"contain(('brought', 157))\": False, \"contain(('trouble', 157))\": False, \"contain(('otherwise', 156))\": False, \"contain(('tim', 156))\": False, \"contain(('5', 156))\": False, \"contain(('allen', 156))\": False, \"contain(('bond', 155))\": False, \"contain(('society', 155))\": False, \"contain(('liked', 155))\": False, \"contain(('dumb', 155))\": False, \"contain(('musical', 154))\": False, \"contain(('stand', 154))\": False, \"contain(('political', 154))\": False, \"contain(('various', 154))\": False, \"contain(('talented', 154))\": False, \"contain(('particular', 154))\": False, \"contain(('west', 154))\": False, \"contain(('state', 153))\": False, \"contain(('keeps', 153))\": False, \"contain(('english', 152))\": False, \"contain(('silly', 152))\": False, \"contain(('u', 152))\": False, \"contain(('situations', 152))\": False, \"contain(('park', 152))\": False, \"contain(('teen', 151))\": False, \"contain(('rating', 151))\": False, \"contain(('slightly', 151))\": False, \"contain(('steve', 151))\": False, \"contain(('truth', 151))\": False, \"contain(('air', 151))\": False, \"contain(('element', 150))\": False, \"contain(('joke', 150))\": False, \"contain(('spend', 150))\": False, \"contain(('key', 150))\": False, \"contain(('biggest', 149))\": False, \"contain(('members', 149))\": False, \"contain(('effort', 149))\": False, \"contain(('government', 149))\": False, \"contain(('focus', 149))\": False, \"contain(('eddie', 149))\": False, \"contain(('soundtrack', 148))\": False, \"contain(('hands', 148))\": False, \"contain(('earlier', 148))\": False, \"contain(('chan', 148))\": False, \"contain(('purpose', 148))\": False, \"contain(('today', 148))\": False, \"contain(('showing', 147))\": False, \"contain(('memorable', 147))\": False, \"contain(('six', 147))\": False, \"contain(('cannot', 147))\": False, \"contain(('max', 147))\": False, \"contain(('offers', 147))\": False, \"contain(('rated', 146))\": False, \"contain(('mars', 146))\": False, \"contain(('heavy', 146))\": False, \"contain(('totally', 146))\": False, \"contain(('control', 145))\": False, \"contain(('credit', 145))\": False, \"contain(('fi', 145))\": False, \"contain(('woody', 145))\": False, \"contain(('ideas', 144))\": False, \"contain(('sci', 144))\": False, \"contain(('wait', 144))\": False, \"contain(('sit', 144))\": False, \"contain(('female', 143))\": False, \"contain(('ask', 143))\": False, \"contain(('waste', 143))\": False, \"contain(('terrible', 143))\": False, \"contain(('depth', 143))\": False, \"contain(('simon', 143))\": False, \"contain(('aspect', 143))\": False, \"contain(('list', 143))\": False, \"contain(('mary', 143))\": False, \"contain(('sister', 143))\": False, \"contain(('animation', 142))\": False, \"contain(('entirely', 142))\": False, \"contain(('fear', 142))\": False, \"contain(('steven', 142))\": False, \"contain(('moves', 142))\": False, \"contain(('actual', 142))\": False, \"contain(('army', 142))\": False, \"contain(('british', 142))\": False, \"contain(('constantly', 142))\": False, \"contain(('fire', 142))\": False, \"contain(('convincing', 141))\": False, \"contain(('setting', 141))\": False, \"contain(('gave', 141))\": False, \"contain(('tension', 141))\": False, \"contain(('street', 140))\": False, \"contain(('8', 140))\": False, \"contain(('brief', 140))\": False, \"contain(('ridiculous', 140))\": False, \"contain(('cinematography', 140))\": False, \"contain(('typical', 140))\": False, \"contain(('nick', 140))\": False, \"contain(('screenwriter', 140))\": False, \"contain(('ability', 140))\": False, \"contain(('spent', 140))\": False, \"contain(('quick', 139))\": False, \"contain(('violent', 139))\": False, \"contain(('atmosphere', 139))\": False, \"contain(('subtle', 139))\": False, \"contain(('expected', 138))\": False, \"contain(('fairly', 138))\": False, \"contain(('seven', 138))\": False, \"contain(('killing', 138))\": False, \"contain(('tone', 138))\": False, \"contain(('master', 138))\": False, \"contain(('disaster', 137))\": False, \"contain(('lots', 137))\": False, \"contain(('thinks', 137))\": False, \"contain(('song', 137))\": False, \"contain(('cheap', 137))\": False, \"contain(('suddenly', 137))\": False, \"contain(('background', 137))\": False, \"contain(('club', 137))\": False, \"contain(('willis', 137))\": False, \"contain(('whatever', 136))\": False, \"contain(('highly', 136))\": False, \"contain(('sees', 136))\": False, \"contain(('complex', 136))\": False, \"contain(('greatest', 136))\": False, \"contain(('impact', 136))\": False, \"contain(('beauty', 135))\": False, \"contain(('front', 135))\": False, \"contain(('humans', 135))\": False, \"contain(('indeed', 135))\": False, \"contain(('flat', 135))\": False, \"contain(('grace', 135))\": False, \"contain(('wrote', 135))\": False, \"contain(('amusing', 135))\": False, \"contain(('ii', 135))\": False, \"contain(('mike', 135))\": False, \"contain(('further', 134))\": False, \"contain(('cute', 134))\": False, \"contain(('dull', 134))\": False, \"contain(('minor', 134))\": False, \"contain(('recently', 134))\": False, \"contain(('hate', 134))\": False, \"contain(('outside', 134))\": False, \"contain(('plenty', 134))\": False, \"contain(('wish', 134))\": False, \"contain(('godzilla', 134))\": False, \"contain(('college', 134))\": False, \"contain(('titanic', 134))\": False, \"contain(('sounds', 133))\": False, \"contain(('telling', 133))\": False, \"contain(('sight', 133))\": False, \"contain(('double', 133))\": False, \"contain(('cinematic', 133))\": False, \"contain(('queen', 133))\": False, \"contain(('hold', 133))\": False, \"contain(('meanwhile', 133))\": False, \"contain(('awful', 132))\": False, \"contain(('clearly', 132))\": False, \"contain(('theme', 132))\": False, \"contain(('hear', 132))\": False, \"contain(('x', 132))\": False, \"contain(('amount', 132))\": False, \"contain(('baby', 132))\": False, \"contain(('approach', 132))\": False, \"contain(('dreams', 131))\": False, \"contain(('shown', 131))\": False, \"contain(('island', 131))\": False, \"contain(('reasons', 131))\": False, \"contain(('charm', 131))\": False, \"contain(('miss', 131))\": False, \"contain(('longer', 131))\": False, \"contain(('common', 130))\": False, \"contain(('sean', 130))\": False, \"contain(('carry', 130))\": False, \"contain(('believable', 130))\": False, \"contain(('realistic', 130))\": False, \"contain(('chemistry', 130))\": False, \"contain(('possibly', 129))\": False, \"contain(('casting', 129))\": False, \"contain(('carrey', 128))\": False, \"contain(('french', 128))\": False, \"contain(('trailer', 128))\": False, \"contain(('tough', 128))\": False, \"contain(('produced', 128))\": False, \"contain(('imagine', 128))\": False, \"contain(('choice', 128))\": False, \"contain(('ride', 128))\": False, \"contain(('somewhere', 127))\": False, \"contain(('hot', 127))\": False, \"contain(('race', 127))\": False, \"contain(('road', 127))\": False, \"contain(('leader', 127))\": False, \"contain(('thin', 127))\": False, \"contain(('jerry', 127))\": False, \"contain(('slowly', 127))\": False, \"contain(('delivers', 127))\": False, \"contain(('detective', 127))\": False, \"contain(('brown', 127))\": False, \"contain(('jackson', 127))\": False, \"contain(('member', 126))\": False, \"contain(('provide', 126))\": False, \"contain(('president', 126))\": False, \"contain(('puts', 126))\": False, \"contain(('asks', 126))\": False, \"contain(('critics', 126))\": False, \"contain(('appearance', 126))\": False, \"contain(('famous', 126))\": False, \"contain(('okay', 125))\": False, \"contain(('intelligence', 125))\": False, \"contain(('energy', 125))\": False, \"contain(('sent', 125))\": False, \"contain(('spielberg', 125))\": False, \"contain(('development', 125))\": False, \"contain(('etc', 125))\": False, \"contain(('language', 125))\": False, \"contain(('blue', 125))\": False, \"contain(('proves', 125))\": False, \"contain(('vampire', 125))\": False, \"contain(('seemingly', 124))\": False, \"contain(('basic', 124))\": False, \"contain(('caught', 124))\": False, \"contain(('decide', 124))\": False, \"contain(('opportunity', 124))\": False, \"contain(('incredibly', 124))\": False, \"contain(('images', 124))\": False, \"contain(('band', 123))\": False, \"contain(('j', 123))\": False, \"contain(('writers', 123))\": False, \"contain(('knew', 123))\": False, \"contain(('interested', 123))\": False, \"contain(('considering', 123))\": False, \"contain(('boys', 123))\": False, \"contain(('thanks', 123))\": False, \"contain(('remains', 123))\": False, \"contain(('climax', 123))\": False, \"contain(('event', 123))\": False, \"contain(('directing', 123))\": False, \"contain(('conclusion', 122))\": False, \"contain(('leading', 122))\": False, \"contain(('ground', 122))\": False, \"contain(('lies', 122))\": False, \"contain(('forget', 122))\": False, \"contain(('alive', 122))\": False, \"contain(('tarzan', 122))\": False, \"contain(('century', 121))\": False, \"contain(('provides', 121))\": False, \"contain(('trip', 121))\": False, \"contain(('partner', 121))\": False, \"contain(('central', 121))\": False, \"contain(('tarantino', 121))\": False, \"contain(('period', 121))\": False, \"contain(('pace', 121))\": False, \"contain(('yourself', 120))\": False, \"contain(('worked', 120))\": False, \"contain(('ready', 120))\": False, \"contain(('date', 120))\": False, \"contain(('thus', 120))\": False, \"contain(('1998', 120))\": False, \"contain(('terrific', 120))\": False, \"contain(('write', 119))\": False, \"contain(('average', 119))\": False, \"contain(('onto', 119))\": False, \"contain(('songs', 119))\": False, \"contain(('occasionally', 119))\": False, \"contain(('doctor', 119))\": False, \"contain(('stands', 119))\": False, \"contain(('hardly', 119))\": False, \"contain(('monster', 119))\": False, \"contain(('led', 119))\": False, \"contain(('mysterious', 119))\": False, \"contain(('details', 119))\": False, \"contain(('wasted', 118))\": False, \"contain(('apart', 118))\": False, \"contain(('aside', 118))\": False, \"contain(('store', 118))\": False, \"contain(('billy', 118))\": False, \"contain(('boss', 118))\": False, \"contain(('travolta', 118))\": False, \"contain(('producer', 118))\": False, \"contain(('pull', 118))\": False, \"contain(('consider', 118))\": False, \"contain(('pictures', 117))\": False, \"contain(('becoming', 117))\": False, \"contain(('cage', 117))\": False, \"contain(('loud', 117))\": False, \"contain(('looked', 117))\": False, \"contain(('officer', 117))\": False, \"contain(('twenty', 117))\": False, \"contain(('system', 117))\": False, \"contain(('contains', 117))\": False, \"contain(('julia', 117))\": False, \"contain(('subplot', 117))\": False, \"contain(('missing', 116))\": False, \"contain(('personality', 116))\": False, \"contain(('building', 116))\": False, \"contain(('learns', 116))\": False, \"contain(('hong', 116))\": False, \"contain(('la', 116))\": False, \"contain(('apartment', 116))\": False, \"contain(('7', 115))\": False, \"contain(('bizarre', 115))\": False, \"contain(('powers', 115))\": False, \"contain(('flaws', 115))\": False, \"contain(('catch', 115))\": False, \"contain(('lawyer', 115))\": False, \"contain(('shoot', 115))\": False, \"contain(('student', 115))\": False, \"contain(('unique', 115))\": False, \"contain(('000', 115))\": False, \"contain(('admit', 115))\": False, \"contain(('concept', 114))\": False, \"contain(('needed', 114))\": False, \"contain(('thrown', 114))\": False, \"contain(('christopher', 114))\": False, \"contain(('laughing', 114))\": False, \"contain(('green', 114))\": False, \"contain(('twists', 114))\": False, \"contain(('matthew', 114))\": False, \"contain(('touch', 114))\": False, \"contain(('waiting', 114))\": False, \"contain(('victim', 113))\": False, \"contain(('cover', 113))\": False, \"contain(('machine', 113))\": False, \"contain(('danny', 113))\": False, \"contain(('mention', 113))\": False, \"contain(('search', 113))\": False, \"contain(('1997', 112))\": False, \"contain(('win', 112))\": False, \"contain(('door', 112))\": False, \"contain(('manner', 112))\": False, \"contain(('train', 112))\": False, \"contain(('saving', 112))\": False, \"contain(('share', 112))\": False, \"contain(('image', 112))\": False, \"contain(('discovers', 112))\": False, \"contain(('normal', 111))\": False, \"contain(('cross', 111))\": False, \"contain(('fox', 111))\": False, \"contain(('returns', 111))\": False, \"contain(('adult', 111))\": False, \"contain(('adds', 111))\": False, \"contain(('answer', 111))\": False, \"contain(('adventure', 111))\": False, \"contain(('lame', 111))\": False, \"contain(('male', 111))\": False, \"contain(('odd', 111))\": False, \"contain(('singer', 111))\": False, \"contain(('deserves', 111))\": False, \"contain(('gore', 110))\": False, \"contain(('states', 110))\": False, \"contain(('include', 110))\": False, \"contain(('equally', 110))\": False, \"contain(('months', 110))\": False, \"contain(('barely', 110))\": False, \"contain(('directors', 110))\": False, \"contain(('introduced', 110))\": False, \"contain(('fashion', 110))\": False, \"contain(('social', 110))\": False, \"contain(('1999', 110))\": False, \"contain(('news', 110))\": False, \"contain(('hair', 109))\": False, \"contain(('dance', 109))\": False, \"contain(('innocent', 109))\": False, \"contain(('camp', 109))\": False, \"contain(('teacher', 109))\": False, \"contain(('became', 109))\": False, \"contain(('sad', 108))\": False, \"contain(('witch', 108))\": False, \"contain(('includes', 108))\": False, \"contain(('nights', 108))\": False, \"contain(('jason', 108))\": False, \"contain(('julie', 108))\": False, \"contain(('latter', 108))\": False, \"contain(('food', 108))\": False, \"contain(('jennifer', 108))\": False, \"contain(('land', 108))\": False, \"contain(('menace', 107))\": False, \"contain(('rate', 107))\": False, \"contain(('storyline', 107))\": False, \"contain(('contact', 107))\": False, \"contain(('jean', 107))\": False, \"contain(('elizabeth', 107))\": False, \"contain(('fellow', 107))\": False, \"contain(('changes', 107))\": False, \"contain(('henry', 107))\": False, \"contain(('hill', 107))\": False, \"contain(('pulp', 107))\": False, \"contain(('gay', 107))\": False, \"contain(('tried', 107))\": False, \"contain(('surprised', 107))\": False, \"contain(('literally', 106))\": False, \"contain(('walk', 106))\": False, \"contain(('standard', 106))\": False, \"contain(('90', 106))\": False, \"contain(('forward', 106))\": False, \"contain(('wise', 106))\": False, \"contain(('enjoyed', 106))\": False, \"contain(('discover', 106))\": False, \"contain(('pop', 106))\": False, \"contain(('anderson', 106))\": False, \"contain(('offer', 106))\": False, \"contain(('recommend', 106))\": False, \"contain(('public', 106))\": False, \"contain(('drive', 105))\": False, \"contain(('c', 105))\": False, \"contain(('toy', 105))\": False, \"contain(('charming', 105))\": False, \"contain(('fair', 105))\": False, \"contain(('chinese', 105))\": False, \"contain(('rescue', 105))\": False, \"contain(('terms', 105))\": False, \"contain(('mouth', 105))\": False, \"contain(('lucas', 105))\": False, \"contain(('accident', 104))\": False, \"contain(('dies', 104))\": False, \"contain(('decided', 104))\": False, \"contain(('edge', 104))\": False, \"contain(('footage', 104))\": False, \"contain(('culture', 104))\": False, \"contain(('weak', 104))\": False, \"contain(('presented', 104))\": False, \"contain(('blade', 104))\": False, \"contain(('younger', 104))\": False, \"contain(('douglas', 104))\": False, \"contain(('natural', 104))\": False, \"contain(('born', 104))\": False, \"contain(('generally', 103))\": False, \"contain(('teenage', 103))\": False, \"contain(('older', 103))\": False, \"contain(('horrible', 103))\": False, \"contain(('addition', 103))\": False, \"contain(('sadly', 103))\": False, \"contain(('creates', 103))\": False, \"contain(('disturbing', 103))\": False, \"contain(('roger', 103))\": False, \"contain(('detail', 103))\": False, \"contain(('devil', 103))\": False, \"contain(('debut', 103))\": False, \"contain(('track', 103))\": False, \"contain(('developed', 103))\": False, \"contain(('week', 103))\": False, \"contain(('russell', 103))\": False, \"contain(('attack', 103))\": False, \"contain(('explain', 103))\": False, \"contain(('rarely', 102))\": False, \"contain(('fully', 102))\": False, \"contain(('prove', 102))\": False, \"contain(('exception', 102))\": False, \"contain(('jeff', 102))\": False, \"contain(('twist', 102))\": False, \"contain(('gang', 102))\": False, \"contain(('winning', 102))\": False, \"contain(('jr', 102))\": False, \"contain(('species', 102))\": False, \"contain(('issues', 102))\": False, \"contain(('fresh', 102))\": False, \"contain(('rules', 102))\": False, \"contain(('meaning', 102))\": False, \"contain(('inspired', 102))\": False, \"contain(('heroes', 101))\": False, \"contain(('desperate', 101))\": False, \"contain(('fighting', 101))\": False, \"contain(('filmed', 101))\": False, \"contain(('faces', 101))\": False, \"contain(('alan', 101))\": False, \"contain(('bright', 101))\": False, \"contain(('ass', 101))\": False, \"contain(('flying', 101))\": False, \"contain(('kong', 101))\": False, \"contain(('rush', 101))\": False, \"contain(('forces', 101))\": False, \"contain(('charles', 101))\": False, \"contain(('numerous', 101))\": False, \"contain(('emotions', 101))\": False, \"contain(('involves', 101))\": False, \"contain(('patrick', 101))\": False, \"contain(('weird', 100))\": False, \"contain(('apparent', 100))\": False, \"contain(('information', 100))\": False, \"contain(('revenge', 100))\": False, \"contain(('jay', 100))\": False, \"contain(('toward', 100))\": False, \"contain(('surprising', 100))\": False, \"contain(('twice', 100))\": False, \"contain(('editing', 100))\": False, \"contain(('calls', 100))\": False, \"contain(('lose', 100))\": False, \"contain(('vegas', 100))\": False, \"contain(('stage', 100))\": False, \"contain(('intended', 100))\": False, \"contain(('gags', 100))\": False, \"contain(('opinion', 100))\": False, \"contain(('likes', 99))\": False, \"contain(('crazy', 99))\": False, \"contain(('owner', 99))\": False, \"contain(('places', 99))\": False, \"contain(('pair', 99))\": False, \"contain(('genuine', 99))\": False, \"contain(('epic', 99))\": False, \"contain(('speak', 99))\": False, \"contain(('throw', 99))\": False, \"contain(('appeal', 99))\": False, \"contain(('gibson', 99))\": False, \"contain(('captain', 99))\": False, \"contain(('military', 99))\": False, \"contain(('20', 98))\": False, \"contain(('blair', 98))\": False, \"contain(('nowhere', 98))\": False, \"contain(('length', 98))\": False, \"contain(('nicely', 98))\": False, \"contain(('cause', 98))\": False, \"contain(('pass', 98))\": False, \"contain(('episode', 98))\": False, \"contain(('kiss', 98))\": False, \"contain(('arnold', 98))\": False, \"contain(('please', 98))\": False, \"contain(('hasn', 98))\": False, \"contain(('phone', 98))\": False, \"contain(('filmmaking', 98))\": False, \"contain(('formula', 98))\": False, \"contain(('boyfriend', 98))\": False, \"contain(('talents', 98))\": False, \"contain(('creating', 98))\": False, \"contain(('kelly', 98))\": False, \"contain(('buy', 98))\": False, \"contain(('wide', 98))\": False, \"contain(('fantasy', 97))\": False, \"contain(('mood', 97))\": False, \"contain(('heads', 97))\": False, \"contain(('pathetic', 97))\": False, \"contain(('lacks', 97))\": False, \"contain(('loved', 97))\": False, \"contain(('asked', 97))\": False, \"contain(('mrs', 97))\": False, \"contain(('witty', 97))\": False, \"contain(('shakespeare', 97))\": False, \"contain(('mulan', 97))\": False, \"contain(('generation', 96))\": False, \"contain(('affair', 96))\": False, \"contain(('pieces', 96))\": False, \"contain(('task', 96))\": False, \"contain(('rare', 96))\": False, \"contain(('kept', 96))\": False, \"contain(('cameo', 96))\": False, \"contain(('fascinating', 96))\": False, \"contain(('ed', 96))\": False, \"contain(('fbi', 96))\": False, \"contain(('burton', 96))\": False, \"contain(('incredible', 95))\": False, \"contain(('accent', 95))\": False, \"contain(('artist', 95))\": False, \"contain(('superior', 95))\": False, \"contain(('academy', 95))\": False, \"contain(('thomas', 95))\": False, \"contain(('spirit', 95))\": False, \"contain(('technical', 95))\": False, \"contain(('confusing', 94))\": False, \"contain(('poorly', 94))\": False, \"contain(('target', 94))\": False, \"contain(('lover', 94))\": False, \"contain(('woo', 94))\": False, \"contain(('mentioned', 94))\": False, \"contain(('theaters', 94))\": False, \"contain(('plane', 94))\": False, \"contain(('confused', 94))\": False, \"contain(('dennis', 94))\": False, \"contain(('rob', 94))\": False, \"contain(('appropriate', 94))\": False, \"contain(('christmas', 94))\": False, \"contain(('considered', 94))\": False, \"contain(('legend', 94))\": False, \"contain(('shame', 94))\": False, \"contain(('soul', 94))\": False, \"contain(('matt', 94))\": False, \"contain(('campbell', 94))\": False, \"contain(('process', 94))\": False, \"contain(('bottom', 93))\": False, \"contain(('sitting', 93))\": False, \"contain(('brain', 93))\": False, \"contain(('creepy', 93))\": False, \"contain(('13', 93))\": False, \"contain(('forever', 93))\": False, \"contain(('dude', 93))\": False, \"contain(('crap', 93))\": False, \"contain(('superb', 93))\": False, \"contain(('speech', 93))\": False, \"contain(('ice', 93))\": False, \"contain(('journey', 93))\": False, \"contain(('masterpiece', 93))\": False, \"contain(('intriguing', 93))\": False, \"contain(('names', 93))\": False, \"contain(('pick', 93))\": False, \"contain(('speaking', 93))\": False, \"contain(('virtually', 93))\": False, \"contain(('award', 93))\": False, \"contain(('worthy', 93))\": False, \"contain(('marriage', 93))\": False, \"contain(('deliver', 92))\": False, \"contain(('cash', 92))\": False, \"contain(('magic', 92))\": False, \"contain(('respect', 92))\": False, \"contain(('product', 92))\": False, \"contain(('necessary', 92))\": False, \"contain(('suppose', 92))\": False, \"contain(('silent', 92))\": False, \"contain(('pointless', 92))\": False, \"contain(('station', 92))\": False, \"contain(('affleck', 92))\": False, \"contain(('dimensional', 92))\": False, \"contain(('charlie', 92))\": False, \"contain(('allows', 92))\": False, \"contain(('avoid', 91))\": False, \"contain(('meant', 91))\": False, \"contain(('cops', 91))\": False, \"contain(('attitude', 91))\": False, \"contain(('relationships', 91))\": False, \"contain(('hits', 91))\": False, \"contain(('stephen', 91))\": False, \"contain(('spends', 91))\": False, \"contain(('relief', 91))\": False, \"contain(('physical', 91))\": False, \"contain(('count', 91))\": False, \"contain(('reviews', 91))\": False, \"contain(('appreciate', 91))\": False, \"contain(('cliches', 91))\": False, \"contain(('holds', 90))\": False, \"contain(('pure', 90))\": False, \"contain(('plans', 90))\": False, \"contain(('limited', 90))\": False, \"contain(('failed', 90))\": False, \"contain(('pain', 90))\": False, \"contain(('impression', 90))\": False, \"contain(('unless', 90))\": False, \"contain(('sub', 90))\": False, \"contain(('[', 90))\": False, \"contain(('total', 90))\": False, \"contain(('creature', 90))\": False, \"contain(('viewing', 90))\": False, \"contain(('loves', 90))\": False, \"contain(('princess', 90))\": False, \"contain(('kate', 90))\": False, \"contain(('rising', 90))\": False, \"contain(('woods', 90))\": False, \"contain(('baldwin', 89))\": False, \"contain(('angry', 89))\": False, \"contain(('drawn', 89))\": False, \"contain(('step', 89))\": False, \"contain(('matrix', 89))\": False, \"contain(('themes', 89))\": False, \"contain(('satire', 89))\": False, \"contain(('arts', 89))\": False, \"contain((']', 89))\": False, \"contain(('remake', 89))\": False, \"contain(('wall', 89))\": False, \"contain(('moral', 89))\": False, \"contain(('color', 89))\": False, \"contain(('ray', 89))\": False, \"contain(('stuck', 89))\": False, \"contain(('touching', 89))\": False, \"contain(('wit', 89))\": False, \"contain(('tony', 89))\": False, \"contain(('hanks', 89))\": False, \"contain(('continues', 88))\": False, \"contain(('damn', 88))\": False, \"contain(('nobody', 88))\": False, \"contain(('cartoon', 88))\": False, \"contain(('keeping', 88))\": False, \"contain(('realized', 88))\": False, \"contain(('criminal', 88))\": False, \"contain(('unfunny', 88))\": False, \"contain(('comedic', 88))\": False, \"contain(('martial', 88))\": False, \"contain(('disappointing', 88))\": False, \"contain(('anti', 88))\": False, \"contain(('graphic', 88))\": False, \"contain(('stunning', 88))\": False, \"contain(('actions', 88))\": False, \"contain(('floor', 88))\": False, \"contain(('emotion', 88))\": False, \"contain(('soldiers', 88))\": False, \"contain(('edward', 88))\": False, \"contain(('comedies', 88))\": False, \"contain(('driver', 88))\": False, \"contain(('expectations', 88))\": False, \"contain(('added', 88))\": False, \"contain(('mad', 88))\": False, \"contain(('angels', 88))\": False, \"contain(('shallow', 88))\": False, \"contain(('suspect', 88))\": False, \"contain(('humorous', 88))\": False, \"contain(('phantom', 88))\": False, \"contain(('appealing', 88))\": False, \"contain(('device', 88))\": False, \"contain(('design', 87))\": False, \"contain(('industry', 87))\": False, \"contain(('reach', 87))\": False, \"contain(('fat', 87))\": False, \"contain(('blame', 87))\": False, \"contain(('united', 87))\": False, \"contain(('sign', 87))\": False, \"contain(('portrayal', 87))\": False, \"contain(('rocky', 87))\": False, \"contain(('finale', 86))\": False, \"contain(('grand', 86))\": False, \"contain(('opposite', 86))\": False, \"contain(('hotel', 86))\": False, \"contain(('match', 86))\": False, \"contain(('damme', 86))\": False, \"contain(('speed', 86))\": False, \"contain(('ok', 86))\": False, \"contain(('loving', 86))\": False, \"contain(('field', 86))\": False, \"contain(('larry', 86))\": False, \"contain(('urban', 86))\": False, \"contain(('troopers', 86))\": False, \"contain(('compared', 86))\": False, \"contain(('apes', 86))\": False, \"contain(('rose', 86))\": False, \"contain(('falling', 86))\": False, \"contain(('era', 86))\": False, \"contain(('loses', 85))\": False, \"contain(('adults', 85))\": False, \"contain(('managed', 85))\": False, \"contain(('dad', 85))\": False, \"contain(('therefore', 85))\": False, \"contain(('pg', 85))\": False, \"contain(('results', 85))\": False, \"contain(('guns', 85))\": False, \"contain(('radio', 85))\": False, \"contain(('lady', 85))\": False, \"contain(('manage', 85))\": False, \"contain(('spice', 85))\": False, \"contain(('naked', 85))\": False, \"contain(('started', 85))\": False, \"contain(('intense', 85))\": False, \"contain(('humanity', 85))\": False, \"contain(('wonderfully', 85))\": False, \"contain(('slasher', 84))\": False, \"contain(('bland', 84))\": False, \"contain(('imagination', 84))\": False, \"contain(('walking', 84))\": False, \"contain(('willing', 84))\": False, \"contain(('horse', 84))\": False, \"contain(('rent', 84))\": False, \"contain(('mix', 84))\": False, \"contain(('generated', 84))\": False, \"contain(('g', 84))\": False, \"contain(('utterly', 84))\": False, \"contain(('scientist', 84))\": False, \"contain(('washington', 84))\": False, \"contain(('notice', 84))\": False, \"contain(('players', 84))\": False, \"contain(('teenagers', 84))\": False, \"contain(('moore', 84))\": False, \"contain(('board', 84))\": False, \"contain(('price', 84))\": False, \"contain(('frightening', 84))\": False, \"contain(('tommy', 84))\": False, \"contain(('spectacular', 83))\": False, \"contain(('bored', 83))\": False, \"contain(('jane', 83))\": False, \"contain(('join', 83))\": False, \"contain(('producers', 83))\": False, \"contain(('johnny', 83))\": False, \"contain(('zero', 83))\": False, \"contain(('vampires', 83))\": False, \"contain(('adaptation', 83))\": False, \"contain(('dollars', 83))\": False, \"contain(('parody', 83))\": False, \"contain(('documentary', 83))\": False, \"contain(('dvd', 83))\": False, \"contain(('wayne', 83))\": False, \"contain(('post', 83))\": False, \"contain(('exist', 83))\": False, \"contain(('matters', 83))\": False, \"contain(('chosen', 83))\": False, \"contain(('mel', 83))\": False, \"contain(('attractive', 83))\": False, \"contain(('plain', 82))\": False, \"contain(('trust', 82))\": False, \"contain(('safe', 82))\": False, \"contain(('reading', 82))\": False, \"contain(('hoping', 82))\": False, \"contain(('protagonist', 82))\": False, \"contain(('feelings', 82))\": False, \"contain(('fate', 82))\": False, \"contain(('finding', 82))\": False, \"contain(('feet', 82))\": False, \"contain(('visuals', 82))\": False, \"contain(('spawn', 82))\": False, \"contain(('compelling', 82))\": False, \"contain(('hall', 82))\": False, \"contain(('sympathetic', 82))\": False, \"contain(('featuring', 82))\": False, \"contain(('difference', 82))\": False, \"contain(('professional', 82))\": False, \"contain(('drugs', 82))\": False, \"contain(('ford', 82))\": False, \"contain(('shooting', 82))\": False, \"contain(('gold', 82))\": False, \"contain(('patch', 82))\": False, \"contain(('build', 82))\": False, \"contain(('boat', 82))\": False, \"contain(('cruise', 82))\": False, \"contain(('honest', 82))\": False, \"contain(('media', 82))\": False, \"contain(('flicks', 81))\": False, \"contain(('bug', 81))\": False, \"contain(('bringing', 81))\": False, \"contain(('dangerous', 81))\": False, \"contain(('watched', 81))\": False, \"contain(('grant', 81))\": False, \"contain(('smile', 81))\": False, \"contain(('plus', 81))\": False, \"contain(('shouldn', 81))\": False, \"contain(('decision', 81))\": False, \"contain(('visually', 81))\": False, \"contain(('allow', 81))\": False, \"contain(('starship', 81))\": False, \"contain(('roberts', 81))\": False, \"contain(('dying', 81))\": False, \"contain(('portrayed', 81))\": False, \"contain(('turning', 80))\": False, \"contain(('believes', 80))\": False, \"contain(('changed', 80))\": False, \"contain(('shock', 80))\": False, \"contain(('destroy', 80))\": False, \"contain(('30', 80))\": False, \"contain(('crowd', 80))\": False, \"contain(('broken', 80))\": False, \"contain(('tired', 80))\": False, \"contain(('fail', 80))\": False, \"contain(('south', 80))\": False, \"contain(('died', 80))\": False, \"contain(('cult', 80))\": False, \"contain(('fake', 80))\": False, \"contain(('vincent', 80))\": False, \"contain(('identity', 80))\": False, \"contain(('sexy', 80))\": False, \"contain(('hunt', 80))\": False, \"contain(('jedi', 80))\": False, \"contain(('flynt', 80))\": False, \"contain(('alex', 80))\": False, \"contain(('engaging', 79))\": False, \"contain(('serve', 79))\": False, \"contain(('snake', 79))\": False, \"contain(('yeah', 79))\": False, \"contain(('expecting', 79))\": False, \"contain(('100', 79))\": False, \"contain(('decade', 79))\": False, \"contain(('ups', 79))\": False, \"contain(('constant', 79))\": False, \"contain(('current', 79))\": False, \"contain(('survive', 79))\": False, \"contain(('jimmy', 79))\": False, \"contain(('buddy', 79))\": False, \"contain(('send', 79))\": False, \"contain(('brooks', 79))\": False, \"contain(('goofy', 79))\": False, \"contain(('likable', 79))\": False, \"contain(('humour', 79))\": False, \"contain(('technology', 79))\": False, \"contain(('files', 79))\": False, \"contain(('babe', 79))\": False, \"contain(('aspects', 79))\": False, \"contain(('presents', 78))\": False, \"contain(('kills', 78))\": False, \"contain(('supposedly', 78))\": False, \"contain(('eight', 78))\": False, \"contain(('sandler', 78))\": False, \"contain(('hospital', 78))\": False, \"contain(('test', 78))\": False, \"contain(('hidden', 78))\": False, \"contain(('brian', 78))\": False, \"contain(('books', 78))\": False, \"contain(('promise', 78))\": False, \"contain(('determined', 78))\": False, \"contain(('professor', 78))\": False, \"contain(('welcome', 78))\": False, \"contain(('pleasure', 78))\": False, \"contain(('succeeds', 78))\": False, \"contain(('individual', 78))\": False, \"contain(('annie', 78))\": False, \"contain(('mob', 78))\": False, \"contain(('ted', 78))\": False, \"contain(('virus', 77))\": False, \"contain(('content', 77))\": False, \"contain(('gary', 77))\": False, \"contain(('direct', 77))\": False, \"contain(('contrived', 77))\": False, \"contain(('carpenter', 77))\": False, \"contain(('scale', 77))\": False, \"contain(('sick', 77))\": False, \"contain(('nasty', 77))\": False, \"contain(('conflict', 77))\": False, \"contain(('haunting', 77))\": False, \"contain(('ghost', 77))\": False, \"contain(('filmmaker', 77))\": False, \"contain(('japanese', 77))\": False, \"contain(('helps', 77))\": False, \"contain(('fare', 77))\": False, \"contain(('lucky', 77))\": False, \"contain(('ultimate', 77))\": False, \"contain(('window', 77))\": False, \"contain(('support', 77))\": False, \"contain(('goal', 77))\": False, \"contain(('provided', 77))\": False, \"contain(('genius', 77))\": False, \"contain(('winner', 77))\": False, \"contain(('taylor', 77))\": False, \"contain(('fantastic', 77))\": False, \"contain(('faith', 77))\": False, \"contain(('lynch', 77))\": False, \"contain(('fit', 76))\": False, \"contain(('catherine', 76))\": False, \"contain(('ms', 76))\": False, \"contain(('paced', 76))\": False, \"contain(('breaks', 76))\": False, \"contain(('al', 76))\": False, \"contain(('frame', 76))\": False, \"contain(('travel', 76))\": False, \"contain(('badly', 76))\": False, \"contain(('available', 76))\": False, \"contain(('cares', 76))\": False, \"contain(('reeves', 76))\": False, \"contain(('crash', 76))\": False, \"contain(('driving', 76))\": False, \"contain(('press', 76))\": False, \"contain(('seagal', 76))\": False, \"contain(('amy', 76))\": False, \"contain(('9', 75))\": False, \"contain(('headed', 75))\": False, \"contain(('instance', 75))\": False, \"contain(('excuse', 75))\": False, \"contain(('offensive', 75))\": False, \"contain(('narrative', 75))\": False, \"contain(('fault', 75))\": False, \"contain(('bus', 75))\": False, \"contain(('f', 75))\": False, \"contain(('extreme', 75))\": False, \"contain(('miller', 75))\": False, \"contain(('guilty', 75))\": False, \"contain(('grows', 75))\": False, \"contain(('overly', 75))\": False, \"contain(('liners', 75))\": False, \"contain(('forgotten', 75))\": False, \"contain(('ahead', 75))\": False, \"contain(('accept', 75))\": False, \"contain(('porn', 75))\": False, \"contain(('directly', 75))\": False, \"contain(('helen', 75))\": False, \"contain(('began', 75))\": False, \"contain(('lord', 75))\": False, \"contain(('folks', 74))\": False, \"contain(('mediocre', 74))\": False, \"contain(('bar', 74))\": False, \"contain(('surface', 74))\": False, \"contain(('super', 74))\": False, \"contain(('failure', 74))\": False, \"contain(('6', 74))\": False, \"contain(('acted', 74))\": False, \"contain(('quiet', 74))\": False, \"contain(('laughable', 74))\": False, \"contain(('sheer', 74))\": False, \"contain(('security', 74))\": False, \"contain(('emotionally', 74))\": False, \"contain(('season', 74))\": False, \"contain(('stuart', 74))\": False, \"contain(('jail', 74))\": False, \"contain(('deals', 74))\": False, \"contain(('cheesy', 74))\": False, \"contain(('court', 74))\": False, \"contain(('beach', 74))\": False, \"contain(('austin', 74))\": False, \"contain(('model', 74))\": False, \"contain(('outstanding', 74))\": False, \"contain(('substance', 73))\": False, \"contain(('nudity', 73))\": False, \"contain(('slapstick', 73))\": False, \"contain(('joan', 73))\": False, \"contain(('reveal', 73))\": False, \"contain(('placed', 73))\": False, \"contain(('check', 73))\": False, \"contain(('beast', 73))\": False, \"contain(('hurt', 73))\": False, \"contain(('bloody', 73))\": False, \"contain(('acts', 73))\": False, \"contain(('fame', 73))\": False, \"contain(('meeting', 73))\": False, \"contain(('nuclear', 73))\": False, \"contain(('1996', 73))\": False, \"contain(('strength', 73))\": False, \"contain(('center', 73))\": False, \"contain(('funniest', 73))\": False, \"contain(('standing', 73))\": False, \"contain(('damon', 73))\": False, \"contain(('clich', 72))\": False, \"contain(('position', 72))\": False, \"contain(('desire', 72))\": False, \"contain(('driven', 72))\": False, \"contain(('seat', 72))\": False, \"contain(('stock', 72))\": False, \"contain(('wondering', 72))\": False, \"contain(('realizes', 72))\": False, \"contain(('dealing', 72))\": False, \"contain(('taste', 72))\": False, \"contain(('routine', 72))\": False, \"contain(('comparison', 72))\": False, \"contain(('cinematographer', 72))\": False, \"contain(('seconds', 72))\": False, \"contain(('singing', 72))\": False, \"contain(('gangster', 72))\": False, \"contain(('responsible', 72))\": False, \"contain(('football', 72))\": False, \"contain(('remarkable', 72))\": False, \"contain(('hunting', 72))\": False, \"contain(('adams', 72))\": False, \"contain(('fly', 72))\": False, \"contain(('suspects', 72))\": False, \"contain(('treat', 72))\": False, \"contain(('hopes', 72))\": False, \"contain(('heaven', 72))\": False, \"contain(('myers', 72))\": False, \"contain(('struggle', 72))\": False, \"contain(('costumes', 71))\": False, \"contain(('beat', 71))\": False, \"contain(('happening', 71))\": False, \"contain(('skills', 71))\": False, \"contain(('ugly', 71))\": False, \"contain(('figures', 71))\": False, \"contain(('thoroughly', 71))\": False, \"contain(('ill', 71))\": False, \"contain(('surprises', 71))\": False, \"contain(('player', 71))\": False, \"contain(('rival', 71))\": False, \"contain(('guard', 71))\": False, \"contain(('anthony', 71))\": False, \"contain(('strike', 71))\": False, \"contain(('community', 71))\": False, \"contain(('streets', 71))\": False, \"contain(('hopkins', 71))\": False, \"contain(('ended', 71))\": False, \"contain(('originally', 71))\": False, \"contain(('sarah', 71))\": False, \"contain(('creative', 71))\": False, \"contain(('characterization', 71))\": False, \"contain(('thankfully', 71))\": False, \"contain(('growing', 71))\": False, \"contain(('sharp', 71))\": False, \"contain(('williamson', 71))\": False, \"contain(('eccentric', 71))\": False, \"contain(('explained', 70))\": False, \"contain(('hey', 70))\": False, \"contain(('claire', 70))\": False, \"contain(('steal', 70))\": False, \"contain(('inevitable', 70))\": False, \"contain(('joel', 70))\": False, \"contain(('core', 70))\": False, \"contain(('weren', 70))\": False, \"contain(('sorry', 70))\": False, \"contain(('built', 70))\": False, \"contain(('anne', 70))\": False, \"contain(('breaking', 70))\": False, \"contain(('villains', 70))\": False, \"contain(('critic', 70))\": False, \"contain(('lets', 70))\": False, \"contain(('visit', 70))\": False, \"contain(('followed', 70))\": False}\n"
     ]
    }
   ],
   "source": [
    "print (document_features(movie_reviews.words('pos/cv957_8737.txt')))"
   ]
  },
  {
   "cell_type": "code",
   "execution_count": 20,
   "metadata": {},
   "outputs": [],
   "source": [
    "featuresets = [(document_features(d),c) for (d,c) in  documents] "
   ]
  },
  {
   "cell_type": "code",
   "execution_count": 21,
   "metadata": {},
   "outputs": [],
   "source": [
    "train_set ,test_set = featuresets[100:], featuresets[:100]"
   ]
  },
  {
   "cell_type": "code",
   "execution_count": 22,
   "metadata": {},
   "outputs": [],
   "source": [
    "classifierdoc = nltk.NaiveBayesClassifier.train(train_set)"
   ]
  },
  {
   "cell_type": "code",
   "execution_count": 23,
   "metadata": {},
   "outputs": [
    {
     "name": "stdout",
     "output_type": "stream",
     "text": [
      "0.48\n"
     ]
    }
   ],
   "source": [
    "print (nltk.classify.accuracy(classifierdoc,test_set))"
   ]
  },
  {
   "cell_type": "code",
   "execution_count": null,
   "metadata": {},
   "outputs": [],
   "source": []
  },
  {
   "cell_type": "markdown",
   "metadata": {},
   "source": [
    "### part of speech tagging "
   ]
  },
  {
   "cell_type": "code",
   "execution_count": 29,
   "metadata": {},
   "outputs": [
    {
     "name": "stdout",
     "output_type": "stream",
     "text": [
      "['e', ',', '.', 's', 'd', 't', 'he', 'n', 'a', 'of', 'the', 'y', 'r', 'to', 'in', 'f', 'o', 'ed', 'nd', 'is', 'on', 'l', 'g', 'and', 'ng', 'er', 'as', 'ing', 'h', 'at', 'es', 'or', 're', 'it', '``', 'an', \"''\", 'm', ';', 'i', 'ly', 'ion', 'en', 'al', '?', 'nt', 'be', 'hat', 'st', 'his', 'th', 'll', 'le', 'ce', 'by', 'ts', 'me', 've', \"'\", 'se', 'ut', 'was', 'for', 'ent', 'ch', 'k', 'w', 'ld', '`', 'rs', 'ted', 'ere', 'her', 'ne', 'ns', 'ith', 'ad', 'ry', ')', '(', 'te', '--', 'ay', 'ty', 'ot', 'p', 'nce', \"'s\", 'ter', 'om', 'ss', ':', 'we', 'are', 'c', 'ers', 'uld', 'had', 'so', 'ey']\n"
     ]
    }
   ],
   "source": [
    "import nltk\n",
    "from nltk.corpus import brown\n",
    "\n",
    "suffix_fdist = nltk.FreqDist()\n",
    "for word in brown.words():\n",
    "    word = word.lower()\n",
    "    suffix_fdist[word[-1:]] +=1\n",
    "    suffix_fdist[word[-2:]] +=1\n",
    "    suffix_fdist[word[-3:]] +=1\n",
    "common_suffixes = []\n",
    "for suffix in suffix_fdist.most_common(100):\n",
    "    common_suffixes.append(str(suffix.__getitem__(0)))\n",
    "print (common_suffixes)"
   ]
  },
  {
   "cell_type": "code",
   "execution_count": 31,
   "metadata": {},
   "outputs": [],
   "source": [
    "def pos_features(word):\n",
    "    features = {}\n",
    "    for suffix in common_suffixes :\n",
    "        features['endswith(%s)' % suffix ] = word.lower().endswith(suffix)\n",
    "    return features "
   ]
  },
  {
   "cell_type": "code",
   "execution_count": 32,
   "metadata": {},
   "outputs": [],
   "source": [
    "tagged_words = brown.tagged_words(categories = 'news')"
   ]
  },
  {
   "cell_type": "code",
   "execution_count": 33,
   "metadata": {},
   "outputs": [],
   "source": [
    "featuresets  = [(pos_features(n),g) for (n,g) in tagged_words]"
   ]
  },
  {
   "cell_type": "code",
   "execution_count": 34,
   "metadata": {},
   "outputs": [],
   "source": [
    "size = int(len(featuresets) * 0.1)"
   ]
  },
  {
   "cell_type": "code",
   "execution_count": 35,
   "metadata": {},
   "outputs": [],
   "source": [
    "train_set , test_set = featuresets[size:] , featuresets[:size]"
   ]
  },
  {
   "cell_type": "code",
   "execution_count": 36,
   "metadata": {},
   "outputs": [],
   "source": [
    "classifier = nltk.DecisionTreeClassifier.train(train_set)"
   ]
  },
  {
   "cell_type": "code",
   "execution_count": 37,
   "metadata": {},
   "outputs": [
    {
     "data": {
      "text/plain": [
       "0.6270512182993535"
      ]
     },
     "execution_count": 37,
     "metadata": {},
     "output_type": "execute_result"
    }
   ],
   "source": [
    "nltk.classify.accuracy(classifier,test_set)"
   ]
  },
  {
   "cell_type": "code",
   "execution_count": 38,
   "metadata": {},
   "outputs": [
    {
     "data": {
      "text/plain": [
       "'NNS'"
      ]
     },
     "execution_count": 38,
     "metadata": {},
     "output_type": "execute_result"
    }
   ],
   "source": [
    "classifier.classify(pos_features('cats'))"
   ]
  },
  {
   "cell_type": "code",
   "execution_count": null,
   "metadata": {},
   "outputs": [],
   "source": []
  },
  {
   "cell_type": "markdown",
   "metadata": {},
   "source": [
    "### Sentence ssegmentation "
   ]
  },
  {
   "cell_type": "code",
   "execution_count": 39,
   "metadata": {},
   "outputs": [],
   "source": [
    "sents = nltk.corpus.treebank_raw.sents()"
   ]
  },
  {
   "cell_type": "code",
   "execution_count": 40,
   "metadata": {},
   "outputs": [],
   "source": [
    "tokens = []"
   ]
  },
  {
   "cell_type": "code",
   "execution_count": 41,
   "metadata": {},
   "outputs": [],
   "source": [
    "boundaries = set()"
   ]
  },
  {
   "cell_type": "code",
   "execution_count": 42,
   "metadata": {},
   "outputs": [],
   "source": [
    "offset = 0"
   ]
  },
  {
   "cell_type": "code",
   "execution_count": 44,
   "metadata": {},
   "outputs": [],
   "source": [
    "for sent in nltk.corpus.treebank_raw.sents():\n",
    "    tokens.extend(sent)\n",
    "    offset += len(sent)\n",
    "    boundaries.add(offset-1)"
   ]
  },
  {
   "cell_type": "code",
   "execution_count": 45,
   "metadata": {},
   "outputs": [],
   "source": [
    "def punct_features(tokens,i):\n",
    "    return {'next-word-capitalized' : tokens[i+1][0].isupper(),'prevword' : tokens[i-1].lower() , 'punct': tokens[i] , 'prev-word-is-one-char' : len(tokens[i-1]) == 1}"
   ]
  },
  {
   "cell_type": "code",
   "execution_count": 46,
   "metadata": {},
   "outputs": [],
   "source": [
    "featuresets = [(punct_features(tokens,i),(i in boundaries)) for i in range(1,len(tokens)-1) if tokens[i] in '.?!']"
   ]
  },
  {
   "cell_type": "code",
   "execution_count": 47,
   "metadata": {},
   "outputs": [
    {
     "data": {
      "text/plain": [
       "0.936026936026936"
      ]
     },
     "execution_count": 47,
     "metadata": {},
     "output_type": "execute_result"
    }
   ],
   "source": [
    "size = int(len(featuresets)*0.1)\n",
    "train_set ,test_set = featuresets[size:],featuresets[:size]\n",
    "classifier = nltk.NaiveBayesClassifier.train(train_set)\n",
    "nltk.classify.accuracy(classifier,test_set)"
   ]
  },
  {
   "cell_type": "code",
   "execution_count": null,
   "metadata": {},
   "outputs": [],
   "source": []
  },
  {
   "cell_type": "code",
   "execution_count": null,
   "metadata": {},
   "outputs": [],
   "source": []
  },
  {
   "cell_type": "code",
   "execution_count": null,
   "metadata": {},
   "outputs": [],
   "source": []
  },
  {
   "cell_type": "code",
   "execution_count": null,
   "metadata": {},
   "outputs": [],
   "source": []
  },
  {
   "cell_type": "code",
   "execution_count": null,
   "metadata": {},
   "outputs": [],
   "source": []
  },
  {
   "cell_type": "code",
   "execution_count": null,
   "metadata": {},
   "outputs": [],
   "source": []
  },
  {
   "cell_type": "code",
   "execution_count": null,
   "metadata": {},
   "outputs": [],
   "source": []
  },
  {
   "cell_type": "code",
   "execution_count": null,
   "metadata": {},
   "outputs": [],
   "source": []
  },
  {
   "cell_type": "code",
   "execution_count": null,
   "metadata": {},
   "outputs": [],
   "source": []
  },
  {
   "cell_type": "code",
   "execution_count": null,
   "metadata": {},
   "outputs": [],
   "source": []
  },
  {
   "cell_type": "code",
   "execution_count": null,
   "metadata": {},
   "outputs": [],
   "source": []
  }
 ],
 "metadata": {
  "kernelspec": {
   "display_name": "Python 3",
   "language": "python",
   "name": "python3"
  },
  "language_info": {
   "codemirror_mode": {
    "name": "ipython",
    "version": 3
   },
   "file_extension": ".py",
   "mimetype": "text/x-python",
   "name": "python",
   "nbconvert_exporter": "python",
   "pygments_lexer": "ipython3",
   "version": "3.6.4"
  }
 },
 "nbformat": 4,
 "nbformat_minor": 2
}
